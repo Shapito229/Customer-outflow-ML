{
 "cells": [
  {
   "cell_type": "markdown",
   "metadata": {
    "toc": true
   },
   "source": [
    "<h1>Содержание<span class=\"tocSkip\"></span></h1>\n",
    "<div class=\"toc\"><ul class=\"toc-item\"><li><span><a href=\"#Подготовка-данных\" data-toc-modified-id=\"Подготовка-данных-1\"><span class=\"toc-item-num\">1&nbsp;&nbsp;</span>Подготовка данных</a></span></li><li><span><a href=\"#Исследование-задачи\" data-toc-modified-id=\"Исследование-задачи-2\"><span class=\"toc-item-num\">2&nbsp;&nbsp;</span>Исследование задачи</a></span></li><li><span><a href=\"#Борьба-с-дисбалансом\" data-toc-modified-id=\"Борьба-с-дисбалансом-3\"><span class=\"toc-item-num\">3&nbsp;&nbsp;</span>Борьба с дисбалансом</a></span></li><li><span><a href=\"#Тестирование-модели\" data-toc-modified-id=\"Тестирование-модели-4\"><span class=\"toc-item-num\">4&nbsp;&nbsp;</span>Тестирование модели</a></span></li><li><span><a href=\"#Чек-лист-готовности-проекта\" data-toc-modified-id=\"Чек-лист-готовности-проекта-5\"><span class=\"toc-item-num\">5&nbsp;&nbsp;</span>Чек-лист готовности проекта</a></span></li></ul></div>"
   ]
  },
  {
   "cell_type": "markdown",
   "metadata": {},
   "source": [
    "# Отток клиентов"
   ]
  },
  {
   "cell_type": "markdown",
   "metadata": {},
   "source": [
    "Из «Бета-Банка» стали уходить клиенты. Каждый месяц. Немного, но заметно. Банковские маркетологи посчитали: сохранять текущих клиентов дешевле, чем привлекать новых.\n",
    "\n",
    "Нужно спрогнозировать, уйдёт клиент из банка в ближайшее время или нет. Вам предоставлены исторические данные о поведении клиентов и расторжении договоров с банком. \n",
    "\n",
    "Постройте модель с предельно большим значением *F1*-меры. Чтобы сдать проект успешно, нужно довести метрику до 0.59. Проверьте *F1*-меру на тестовой выборке самостоятельно.\n",
    "\n",
    "Дополнительно измеряйте *AUC-ROC*, сравнивайте её значение с *F1*-мерой.\n",
    "\n",
    "Источник данных: [https://www.kaggle.com/barelydedicated/bank-customer-churn-modeling](https://www.kaggle.com/barelydedicated/bank-customer-churn-modeling)"
   ]
  },
  {
   "cell_type": "markdown",
   "metadata": {},
   "source": [
    "## Подготовка данных"
   ]
  },
  {
   "cell_type": "code",
   "execution_count": 1,
   "metadata": {},
   "outputs": [],
   "source": [
    "import pandas as pd\n",
    "import numpy as np\n",
    "import matplotlib.pyplot as plt\n",
    "from sklearn.model_selection import train_test_split\n",
    "from sklearn.preprocessing import StandardScaler\n",
    "from sklearn.tree import DecisionTreeClassifier\n",
    "from sklearn.linear_model import LogisticRegression\n",
    "from sklearn.ensemble import RandomForestClassifier\n",
    "from sklearn.metrics import accuracy_score\n",
    "from sklearn.metrics import confusion_matrix\n",
    "from sklearn.metrics import recall_score\n",
    "from sklearn.metrics import precision_score\n",
    "from sklearn.metrics import f1_score\n",
    "from sklearn.utils import shuffle\n",
    "from sklearn.metrics import mean_squared_error\n",
    "from sklearn.metrics import roc_curve \n"
   ]
  },
  {
   "cell_type": "code",
   "execution_count": 2,
   "metadata": {},
   "outputs": [
    {
     "data": {
      "text/html": [
       "<div>\n",
       "<style scoped>\n",
       "    .dataframe tbody tr th:only-of-type {\n",
       "        vertical-align: middle;\n",
       "    }\n",
       "\n",
       "    .dataframe tbody tr th {\n",
       "        vertical-align: top;\n",
       "    }\n",
       "\n",
       "    .dataframe thead th {\n",
       "        text-align: right;\n",
       "    }\n",
       "</style>\n",
       "<table border=\"1\" class=\"dataframe\">\n",
       "  <thead>\n",
       "    <tr style=\"text-align: right;\">\n",
       "      <th></th>\n",
       "      <th>RowNumber</th>\n",
       "      <th>CustomerId</th>\n",
       "      <th>Surname</th>\n",
       "      <th>CreditScore</th>\n",
       "      <th>Geography</th>\n",
       "      <th>Gender</th>\n",
       "      <th>Age</th>\n",
       "      <th>Tenure</th>\n",
       "      <th>Balance</th>\n",
       "      <th>NumOfProducts</th>\n",
       "      <th>HasCrCard</th>\n",
       "      <th>IsActiveMember</th>\n",
       "      <th>EstimatedSalary</th>\n",
       "      <th>Exited</th>\n",
       "    </tr>\n",
       "  </thead>\n",
       "  <tbody>\n",
       "    <tr>\n",
       "      <td>0</td>\n",
       "      <td>1</td>\n",
       "      <td>15634602</td>\n",
       "      <td>Hargrave</td>\n",
       "      <td>619</td>\n",
       "      <td>France</td>\n",
       "      <td>Female</td>\n",
       "      <td>42</td>\n",
       "      <td>2.0</td>\n",
       "      <td>0.00</td>\n",
       "      <td>1</td>\n",
       "      <td>1</td>\n",
       "      <td>1</td>\n",
       "      <td>101348.88</td>\n",
       "      <td>1</td>\n",
       "    </tr>\n",
       "    <tr>\n",
       "      <td>1</td>\n",
       "      <td>2</td>\n",
       "      <td>15647311</td>\n",
       "      <td>Hill</td>\n",
       "      <td>608</td>\n",
       "      <td>Spain</td>\n",
       "      <td>Female</td>\n",
       "      <td>41</td>\n",
       "      <td>1.0</td>\n",
       "      <td>83807.86</td>\n",
       "      <td>1</td>\n",
       "      <td>0</td>\n",
       "      <td>1</td>\n",
       "      <td>112542.58</td>\n",
       "      <td>0</td>\n",
       "    </tr>\n",
       "    <tr>\n",
       "      <td>2</td>\n",
       "      <td>3</td>\n",
       "      <td>15619304</td>\n",
       "      <td>Onio</td>\n",
       "      <td>502</td>\n",
       "      <td>France</td>\n",
       "      <td>Female</td>\n",
       "      <td>42</td>\n",
       "      <td>8.0</td>\n",
       "      <td>159660.80</td>\n",
       "      <td>3</td>\n",
       "      <td>1</td>\n",
       "      <td>0</td>\n",
       "      <td>113931.57</td>\n",
       "      <td>1</td>\n",
       "    </tr>\n",
       "    <tr>\n",
       "      <td>3</td>\n",
       "      <td>4</td>\n",
       "      <td>15701354</td>\n",
       "      <td>Boni</td>\n",
       "      <td>699</td>\n",
       "      <td>France</td>\n",
       "      <td>Female</td>\n",
       "      <td>39</td>\n",
       "      <td>1.0</td>\n",
       "      <td>0.00</td>\n",
       "      <td>2</td>\n",
       "      <td>0</td>\n",
       "      <td>0</td>\n",
       "      <td>93826.63</td>\n",
       "      <td>0</td>\n",
       "    </tr>\n",
       "    <tr>\n",
       "      <td>4</td>\n",
       "      <td>5</td>\n",
       "      <td>15737888</td>\n",
       "      <td>Mitchell</td>\n",
       "      <td>850</td>\n",
       "      <td>Spain</td>\n",
       "      <td>Female</td>\n",
       "      <td>43</td>\n",
       "      <td>2.0</td>\n",
       "      <td>125510.82</td>\n",
       "      <td>1</td>\n",
       "      <td>1</td>\n",
       "      <td>1</td>\n",
       "      <td>79084.10</td>\n",
       "      <td>0</td>\n",
       "    </tr>\n",
       "  </tbody>\n",
       "</table>\n",
       "</div>"
      ],
      "text/plain": [
       "   RowNumber  CustomerId   Surname  CreditScore Geography  Gender  Age  \\\n",
       "0          1    15634602  Hargrave          619    France  Female   42   \n",
       "1          2    15647311      Hill          608     Spain  Female   41   \n",
       "2          3    15619304      Onio          502    France  Female   42   \n",
       "3          4    15701354      Boni          699    France  Female   39   \n",
       "4          5    15737888  Mitchell          850     Spain  Female   43   \n",
       "\n",
       "   Tenure    Balance  NumOfProducts  HasCrCard  IsActiveMember  \\\n",
       "0     2.0       0.00              1          1               1   \n",
       "1     1.0   83807.86              1          0               1   \n",
       "2     8.0  159660.80              3          1               0   \n",
       "3     1.0       0.00              2          0               0   \n",
       "4     2.0  125510.82              1          1               1   \n",
       "\n",
       "   EstimatedSalary  Exited  \n",
       "0        101348.88       1  \n",
       "1        112542.58       0  \n",
       "2        113931.57       1  \n",
       "3         93826.63       0  \n",
       "4         79084.10       0  "
      ]
     },
     "execution_count": 2,
     "metadata": {},
     "output_type": "execute_result"
    }
   ],
   "source": [
    "data=pd.read_csv('/datasets/Churn.csv')\n",
    "data.head()"
   ]
  },
  {
   "cell_type": "code",
   "execution_count": 3,
   "metadata": {},
   "outputs": [
    {
     "name": "stdout",
     "output_type": "stream",
     "text": [
      "**Общая информация датафрейма**\n",
      "<class 'pandas.core.frame.DataFrame'>\n",
      "RangeIndex: 10000 entries, 0 to 9999\n",
      "Data columns (total 14 columns):\n",
      "RowNumber          10000 non-null int64\n",
      "CustomerId         10000 non-null int64\n",
      "Surname            10000 non-null object\n",
      "CreditScore        10000 non-null int64\n",
      "Geography          10000 non-null object\n",
      "Gender             10000 non-null object\n",
      "Age                10000 non-null int64\n",
      "Tenure             9091 non-null float64\n",
      "Balance            10000 non-null float64\n",
      "NumOfProducts      10000 non-null int64\n",
      "HasCrCard          10000 non-null int64\n",
      "IsActiveMember     10000 non-null int64\n",
      "EstimatedSalary    10000 non-null float64\n",
      "Exited             10000 non-null int64\n",
      "dtypes: float64(3), int64(8), object(3)\n",
      "memory usage: 1.1+ MB\n",
      "None\n",
      "-------------------------------------------------------------------------------------------------------------\n",
      "**Просмотр статистических данных**\n",
      "         RowNumber    CustomerId   CreditScore           Age       Tenure  \\\n",
      "count  10000.00000  1.000000e+04  10000.000000  10000.000000  9091.000000   \n",
      "mean    5000.50000  1.569094e+07    650.528800     38.921800     4.997690   \n",
      "std     2886.89568  7.193619e+04     96.653299     10.487806     2.894723   \n",
      "min        1.00000  1.556570e+07    350.000000     18.000000     0.000000   \n",
      "25%     2500.75000  1.562853e+07    584.000000     32.000000     2.000000   \n",
      "50%     5000.50000  1.569074e+07    652.000000     37.000000     5.000000   \n",
      "75%     7500.25000  1.575323e+07    718.000000     44.000000     7.000000   \n",
      "max    10000.00000  1.581569e+07    850.000000     92.000000    10.000000   \n",
      "\n",
      "             Balance  NumOfProducts    HasCrCard  IsActiveMember  \\\n",
      "count   10000.000000   10000.000000  10000.00000    10000.000000   \n",
      "mean    76485.889288       1.530200      0.70550        0.515100   \n",
      "std     62397.405202       0.581654      0.45584        0.499797   \n",
      "min         0.000000       1.000000      0.00000        0.000000   \n",
      "25%         0.000000       1.000000      0.00000        0.000000   \n",
      "50%     97198.540000       1.000000      1.00000        1.000000   \n",
      "75%    127644.240000       2.000000      1.00000        1.000000   \n",
      "max    250898.090000       4.000000      1.00000        1.000000   \n",
      "\n",
      "       EstimatedSalary        Exited  \n",
      "count     10000.000000  10000.000000  \n",
      "mean     100090.239881      0.203700  \n",
      "std       57510.492818      0.402769  \n",
      "min          11.580000      0.000000  \n",
      "25%       51002.110000      0.000000  \n",
      "50%      100193.915000      0.000000  \n",
      "75%      149388.247500      0.000000  \n",
      "max      199992.480000      1.000000  \n",
      "-------------------------------------------------------------------------------------------------------------\n",
      "**Вывод рандомных строк датафрейма**\n",
      "      RowNumber  CustomerId     Surname  CreditScore Geography  Gender  Age  \\\n",
      "9953       9954    15655952       Burke          550    France    Male   47   \n",
      "3850       3851    15775293  Stephenson          680    France    Male   34   \n",
      "4962       4963    15665088      Gordon          531    France  Female   42   \n",
      "\n",
      "      Tenure    Balance  NumOfProducts  HasCrCard  IsActiveMember  \\\n",
      "9953     2.0       0.00              2          1               1   \n",
      "3850     3.0  143292.95              1          1               0   \n",
      "4962     2.0       0.00              2          0               1   \n",
      "\n",
      "      EstimatedSalary  Exited  \n",
      "9953         97057.28       0  \n",
      "3850         66526.01       0  \n",
      "4962         90537.47       0  \n",
      "-------------------------------------------------------------------------------------------------------------\n",
      "**Вывод первых пяти строк датафрейма**\n",
      "   RowNumber  CustomerId   Surname  CreditScore Geography  Gender  Age  \\\n",
      "0          1    15634602  Hargrave          619    France  Female   42   \n",
      "1          2    15647311      Hill          608     Spain  Female   41   \n",
      "2          3    15619304      Onio          502    France  Female   42   \n",
      "3          4    15701354      Boni          699    France  Female   39   \n",
      "4          5    15737888  Mitchell          850     Spain  Female   43   \n",
      "\n",
      "   Tenure    Balance  NumOfProducts  HasCrCard  IsActiveMember  \\\n",
      "0     2.0       0.00              1          1               1   \n",
      "1     1.0   83807.86              1          0               1   \n",
      "2     8.0  159660.80              3          1               0   \n",
      "3     1.0       0.00              2          0               0   \n",
      "4     2.0  125510.82              1          1               1   \n",
      "\n",
      "   EstimatedSalary  Exited  \n",
      "0        101348.88       1  \n",
      "1        112542.58       0  \n",
      "2        113931.57       1  \n",
      "3         93826.63       0  \n",
      "4         79084.10       0  \n",
      "-------------------------------------------------------------------------------------------------------------\n",
      "**Вывод количесва дубликатов датафрейма**\n",
      "0\n",
      "-------------------------------------------------------------------------------------------------------------\n",
      "**Вывод количесва пропущеных значений датафрейма**\n",
      "RowNumber            0\n",
      "CustomerId           0\n",
      "Surname              0\n",
      "CreditScore          0\n",
      "Geography            0\n",
      "Gender               0\n",
      "Age                  0\n",
      "Tenure             909\n",
      "Balance              0\n",
      "NumOfProducts        0\n",
      "HasCrCard            0\n",
      "IsActiveMember       0\n",
      "EstimatedSalary      0\n",
      "Exited               0\n",
      "dtype: int64\n",
      "-------------------------------------------------------------------------------------------------------------\n",
      "None\n"
     ]
    }
   ],
   "source": [
    "def fun_date(data):\n",
    "    print('**Общая информация датафрейма**')\n",
    "    print(data.info())\n",
    "    print('-------------------------------------------------------------------------------------------------------------')\n",
    "    print('**Просмотр статистических данных**')\n",
    "    print(data.describe())\n",
    "    print('-------------------------------------------------------------------------------------------------------------')\n",
    "    print('**Вывод рандомных строк датафрейма**')\n",
    "    print(data.sample(n=3, random_state=1))\n",
    "    print('-------------------------------------------------------------------------------------------------------------')\n",
    "    print('**Вывод первых пяти строк датафрейма**')\n",
    "    print(data.head())\n",
    "    print('-------------------------------------------------------------------------------------------------------------')\n",
    "    print('**Вывод количесва дубликатов датафрейма**')\n",
    "    print(data.duplicated().sum())\n",
    "    print('-------------------------------------------------------------------------------------------------------------')\n",
    "    print('**Вывод количесва пропущеных значений датафрейма**')\n",
    "    print(data.isnull().sum())\n",
    "    print('-------------------------------------------------------------------------------------------------------------')\n",
    "print(fun_date(data))"
   ]
  },
  {
   "cell_type": "code",
   "execution_count": 4,
   "metadata": {},
   "outputs": [],
   "source": [
    "data.dropna(subset=['Tenure'], inplace=True)"
   ]
  },
  {
   "cell_type": "code",
   "execution_count": 5,
   "metadata": {},
   "outputs": [
    {
     "data": {
      "text/plain": [
       "RowNumber          0\n",
       "CustomerId         0\n",
       "Surname            0\n",
       "CreditScore        0\n",
       "Geography          0\n",
       "Gender             0\n",
       "Age                0\n",
       "Tenure             0\n",
       "Balance            0\n",
       "NumOfProducts      0\n",
       "HasCrCard          0\n",
       "IsActiveMember     0\n",
       "EstimatedSalary    0\n",
       "Exited             0\n",
       "dtype: int64"
      ]
     },
     "execution_count": 5,
     "metadata": {},
     "output_type": "execute_result"
    }
   ],
   "source": [
    "data.isnull().sum()"
   ]
  },
  {
   "cell_type": "code",
   "execution_count": 6,
   "metadata": {},
   "outputs": [
    {
     "data": {
      "text/html": [
       "<div>\n",
       "<style scoped>\n",
       "    .dataframe tbody tr th:only-of-type {\n",
       "        vertical-align: middle;\n",
       "    }\n",
       "\n",
       "    .dataframe tbody tr th {\n",
       "        vertical-align: top;\n",
       "    }\n",
       "\n",
       "    .dataframe thead th {\n",
       "        text-align: right;\n",
       "    }\n",
       "</style>\n",
       "<table border=\"1\" class=\"dataframe\">\n",
       "  <thead>\n",
       "    <tr style=\"text-align: right;\">\n",
       "      <th></th>\n",
       "      <th>RowNumber</th>\n",
       "      <th>CustomerId</th>\n",
       "      <th>Surname</th>\n",
       "      <th>CreditScore</th>\n",
       "      <th>Geography</th>\n",
       "      <th>Gender</th>\n",
       "      <th>Age</th>\n",
       "      <th>Tenure</th>\n",
       "      <th>Balance</th>\n",
       "      <th>NumOfProducts</th>\n",
       "      <th>HasCrCard</th>\n",
       "      <th>IsActiveMember</th>\n",
       "      <th>EstimatedSalary</th>\n",
       "      <th>Exited</th>\n",
       "    </tr>\n",
       "  </thead>\n",
       "  <tbody>\n",
       "    <tr>\n",
       "      <td>0</td>\n",
       "      <td>1</td>\n",
       "      <td>15634602</td>\n",
       "      <td>Hargrave</td>\n",
       "      <td>619</td>\n",
       "      <td>France</td>\n",
       "      <td>Female</td>\n",
       "      <td>42</td>\n",
       "      <td>2.0</td>\n",
       "      <td>0.00</td>\n",
       "      <td>1</td>\n",
       "      <td>1</td>\n",
       "      <td>1</td>\n",
       "      <td>101348.88</td>\n",
       "      <td>1</td>\n",
       "    </tr>\n",
       "    <tr>\n",
       "      <td>1</td>\n",
       "      <td>2</td>\n",
       "      <td>15647311</td>\n",
       "      <td>Hill</td>\n",
       "      <td>608</td>\n",
       "      <td>Spain</td>\n",
       "      <td>Female</td>\n",
       "      <td>41</td>\n",
       "      <td>1.0</td>\n",
       "      <td>83807.86</td>\n",
       "      <td>1</td>\n",
       "      <td>0</td>\n",
       "      <td>1</td>\n",
       "      <td>112542.58</td>\n",
       "      <td>0</td>\n",
       "    </tr>\n",
       "    <tr>\n",
       "      <td>2</td>\n",
       "      <td>3</td>\n",
       "      <td>15619304</td>\n",
       "      <td>Onio</td>\n",
       "      <td>502</td>\n",
       "      <td>France</td>\n",
       "      <td>Female</td>\n",
       "      <td>42</td>\n",
       "      <td>8.0</td>\n",
       "      <td>159660.80</td>\n",
       "      <td>3</td>\n",
       "      <td>1</td>\n",
       "      <td>0</td>\n",
       "      <td>113931.57</td>\n",
       "      <td>1</td>\n",
       "    </tr>\n",
       "    <tr>\n",
       "      <td>3</td>\n",
       "      <td>4</td>\n",
       "      <td>15701354</td>\n",
       "      <td>Boni</td>\n",
       "      <td>699</td>\n",
       "      <td>France</td>\n",
       "      <td>Female</td>\n",
       "      <td>39</td>\n",
       "      <td>1.0</td>\n",
       "      <td>0.00</td>\n",
       "      <td>2</td>\n",
       "      <td>0</td>\n",
       "      <td>0</td>\n",
       "      <td>93826.63</td>\n",
       "      <td>0</td>\n",
       "    </tr>\n",
       "    <tr>\n",
       "      <td>4</td>\n",
       "      <td>5</td>\n",
       "      <td>15737888</td>\n",
       "      <td>Mitchell</td>\n",
       "      <td>850</td>\n",
       "      <td>Spain</td>\n",
       "      <td>Female</td>\n",
       "      <td>43</td>\n",
       "      <td>2.0</td>\n",
       "      <td>125510.82</td>\n",
       "      <td>1</td>\n",
       "      <td>1</td>\n",
       "      <td>1</td>\n",
       "      <td>79084.10</td>\n",
       "      <td>0</td>\n",
       "    </tr>\n",
       "  </tbody>\n",
       "</table>\n",
       "</div>"
      ],
      "text/plain": [
       "   RowNumber  CustomerId   Surname  CreditScore Geography  Gender  Age  \\\n",
       "0          1    15634602  Hargrave          619    France  Female   42   \n",
       "1          2    15647311      Hill          608     Spain  Female   41   \n",
       "2          3    15619304      Onio          502    France  Female   42   \n",
       "3          4    15701354      Boni          699    France  Female   39   \n",
       "4          5    15737888  Mitchell          850     Spain  Female   43   \n",
       "\n",
       "   Tenure    Balance  NumOfProducts  HasCrCard  IsActiveMember  \\\n",
       "0     2.0       0.00              1          1               1   \n",
       "1     1.0   83807.86              1          0               1   \n",
       "2     8.0  159660.80              3          1               0   \n",
       "3     1.0       0.00              2          0               0   \n",
       "4     2.0  125510.82              1          1               1   \n",
       "\n",
       "   EstimatedSalary  Exited  \n",
       "0        101348.88       1  \n",
       "1        112542.58       0  \n",
       "2        113931.57       1  \n",
       "3         93826.63       0  \n",
       "4         79084.10       0  "
      ]
     },
     "execution_count": 6,
     "metadata": {},
     "output_type": "execute_result"
    }
   ],
   "source": [
    "data.head()"
   ]
  },
  {
   "cell_type": "code",
   "execution_count": 7,
   "metadata": {},
   "outputs": [],
   "source": [
    "data['Gender'] = pd.get_dummies(data['Gender'])\n",
    "data_ohe=pd.get_dummies(data['Geography'])\n",
    "data['France_user']=data_ohe['France']\n",
    "data['Spain_user']=data_ohe['Spain']\n",
    "data['Germany_user']=data_ohe['Germany']"
   ]
  },
  {
   "cell_type": "markdown",
   "metadata": {},
   "source": [
    "Разбил данные по дамми-значениям, чтобы можно было в дальнейшем с ними работать. Также привел к численному виду гендер."
   ]
  },
  {
   "cell_type": "markdown",
   "metadata": {},
   "source": [
    "## Исследование задачи"
   ]
  },
  {
   "cell_type": "code",
   "execution_count": 8,
   "metadata": {},
   "outputs": [
    {
     "name": "stdout",
     "output_type": "stream",
     "text": [
      "Обучающая выборка: (5454, 13)\n",
      "(5454,)\n",
      "Валидационная выборка: (1819, 13)\n",
      "(1819,)\n",
      "Тестовая выборка: (1818, 13)\n",
      "(1818,)\n"
     ]
    }
   ],
   "source": [
    "features = data.drop(['Exited', 'Surname', 'CustomerId', 'Geography'], axis =1)\n",
    "target = data['Exited']\n",
    "\n",
    "\n",
    "features_train, features_test, target_train, target_test = train_test_split(features, target, test_size=0.4, random_state=12345)\n",
    "features_test, features_valid, target_test, target_valid = train_test_split(features_test, target_test, test_size=0.5, random_state=12345)\n",
    "\n",
    "print('Обучающая выборка:',features_train.shape)\n",
    "print(target_train.shape)\n",
    "print('Валидационная выборка:',features_valid.shape)\n",
    "print(target_valid.shape)\n",
    "print('Тестовая выборка:',features_test.shape)\n",
    "print(target_test.shape)"
   ]
  },
  {
   "cell_type": "markdown",
   "metadata": {},
   "source": [
    "Разбил данные в соотношении 3:1:1"
   ]
  },
  {
   "cell_type": "code",
   "execution_count": 9,
   "metadata": {},
   "outputs": [],
   "source": [
    "model = DecisionTreeClassifier(random_state=12345, class_weight='balanced')\n",
    "model.fit(features_train, target_train)\n",
    "predicted_valid = model.predict(features_valid)\n",
    "\n"
   ]
  },
  {
   "cell_type": "code",
   "execution_count": 10,
   "metadata": {},
   "outputs": [
    {
     "name": "stdout",
     "output_type": "stream",
     "text": [
      "Матрица ошибок [[1284  184]\n",
      " [ 189  162]]\n",
      "\n",
      "Полнота 0.46153846153846156\n",
      "\n",
      "Точность 0.4682080924855491\n",
      "\n",
      "F1-мера 0.46484935437589675\n"
     ]
    }
   ],
   "source": [
    "print('Матрица ошибок',confusion_matrix(target_valid,predicted_valid))\n",
    "print()\n",
    "print('Полнота',recall_score(target_valid, predicted_valid))\n",
    "print()\n",
    "print('Точность',precision_score(target_valid, predicted_valid))\n",
    "print()\n",
    "print('F1-мера',f1_score(target_valid, predicted_valid))\n"
   ]
  },
  {
   "cell_type": "code",
   "execution_count": 11,
   "metadata": {},
   "outputs": [
    {
     "name": "stdout",
     "output_type": "stream",
     "text": [
      "F1: 0.4633663366336634\n"
     ]
    }
   ],
   "source": [
    "model = LogisticRegression(random_state=12345, solver='liblinear', class_weight='balanced')\n",
    "model.fit(features_train, target_train)\n",
    "predicted_valid = model.predict(features_valid)\n",
    "print(\"F1:\", f1_score(target_valid, predicted_valid))"
   ]
  },
  {
   "cell_type": "markdown",
   "metadata": {},
   "source": [
    "F1 мера не достаточно хороша, будем улучшать!"
   ]
  },
  {
   "cell_type": "markdown",
   "metadata": {},
   "source": [
    "## Борьба с дисбалансом"
   ]
  },
  {
   "cell_type": "code",
   "execution_count": 12,
   "metadata": {},
   "outputs": [],
   "source": [
    "def checkstat (model, features, target): \n",
    "    model.fit(features, target)\n",
    "    predicted_valid=model.predict(features_valid)\n",
    "    print(\"F1:\", f1_score(target_valid, predicted_valid))\n",
    "    print(recall_score(target_valid, predicted_valid))\n",
    "    print(precision_score(target_valid, predicted_valid))"
   ]
  },
  {
   "cell_type": "code",
   "execution_count": 13,
   "metadata": {},
   "outputs": [
    {
     "name": "stdout",
     "output_type": "stream",
     "text": [
      "F1: 0.34724368882019574\n",
      "0.9601139601139601\n",
      "0.2119496855345912\n"
     ]
    }
   ],
   "source": [
    "def upsample(features, target, repeat):\n",
    "    features_zeros = features[target == 0]\n",
    "    features_ones = features[target == 1]\n",
    "    target_zeros = target[target == 0]\n",
    "    target_ones = target[target == 1]\n",
    "\n",
    "    features_upsampled = pd.concat([features_zeros] + [features_ones] * repeat)\n",
    "    target_upsampled = pd.concat([target_zeros] + [target_ones] * repeat)\n",
    "    \n",
    "    features_upsampled, target_upsampled = shuffle(\n",
    "        features_upsampled, target_upsampled, random_state=12345)\n",
    "    \n",
    "    return features_upsampled, target_upsampled\n",
    "\n",
    "features_upsampled, target_upsampled = upsample(features_train, target_train, 10)\n",
    "\n",
    "model = LogisticRegression(random_state=12345,solver='liblinear')\n",
    "checkstat(model, features_upsampled, target_upsampled)"
   ]
  },
  {
   "cell_type": "code",
   "execution_count": 14,
   "metadata": {},
   "outputs": [
    {
     "name": "stdout",
     "output_type": "stream",
     "text": [
      "F1: 0.34724368882019574\n",
      "0.9601139601139601\n",
      "0.2119496855345912\n"
     ]
    }
   ],
   "source": [
    "def downsample(features, target, fraction):\n",
    "    features_zeros = features[target == 0]\n",
    "    features_ones = features[target == 1]\n",
    "    target_zeros = target[target == 0]\n",
    "    target_ones = target[target == 1]\n",
    "\n",
    "    features_downsampled = pd.concat(\n",
    "        [features_zeros.sample(frac=fraction, random_state=12345)] + [features_ones])\n",
    "    target_downsampled = pd.concat(\n",
    "        [target_zeros.sample(frac=fraction, random_state=12345)] + [target_ones])\n",
    "    \n",
    "    features_downsampled, target_downsampled = shuffle(\n",
    "        features_downsampled, target_downsampled, random_state=12345)\n",
    "    \n",
    "    return features_downsampled, target_downsampled\n",
    "\n",
    "features_downsampled, target_downsampled = downsample(features_train, target_train, 0.1)\n",
    "\n",
    "model = LogisticRegression(random_state=12345,solver='liblinear')\n",
    "checkstat(model, features_upsampled, target_upsampled)"
   ]
  },
  {
   "cell_type": "code",
   "execution_count": 15,
   "metadata": {},
   "outputs": [
    {
     "name": "stdout",
     "output_type": "stream",
     "text": [
      "Порог = 0.00 | Точность = 0.193, Полнота = 1.000, F1 = 0.324\n",
      "Порог = 0.02 | Точность = 0.193, Полнота = 1.000, F1 = 0.324\n",
      "Порог = 0.04 | Точность = 0.193, Полнота = 1.000, F1 = 0.324\n",
      "Порог = 0.06 | Точность = 0.193, Полнота = 1.000, F1 = 0.324\n",
      "Порог = 0.08 | Точность = 0.193, Полнота = 1.000, F1 = 0.324\n",
      "Порог = 0.10 | Точность = 0.193, Полнота = 1.000, F1 = 0.324\n",
      "Порог = 0.12 | Точность = 0.193, Полнота = 1.000, F1 = 0.324\n",
      "Порог = 0.14 | Точность = 0.193, Полнота = 1.000, F1 = 0.324\n",
      "Порог = 0.16 | Точность = 0.193, Полнота = 1.000, F1 = 0.324\n",
      "Порог = 0.18 | Точность = 0.193, Полнота = 1.000, F1 = 0.324\n",
      "Порог = 0.20 | Точность = 0.193, Полнота = 1.000, F1 = 0.324\n",
      "Порог = 0.22 | Точность = 0.193, Полнота = 1.000, F1 = 0.324\n",
      "Порог = 0.24 | Точность = 0.193, Полнота = 1.000, F1 = 0.324\n",
      "Порог = 0.26 | Точность = 0.193, Полнота = 1.000, F1 = 0.324\n",
      "Порог = 0.28 | Точность = 0.193, Полнота = 1.000, F1 = 0.324\n",
      "Порог = 0.30 | Точность = 0.193, Полнота = 0.997, F1 = 0.324\n",
      "Порог = 0.32 | Точность = 0.194, Полнота = 0.997, F1 = 0.325\n",
      "Порог = 0.34 | Точность = 0.194, Полнота = 0.997, F1 = 0.325\n",
      "Порог = 0.36 | Точность = 0.195, Полнота = 0.997, F1 = 0.326\n",
      "Порог = 0.38 | Точность = 0.196, Полнота = 0.994, F1 = 0.328\n",
      "Порог = 0.40 | Точность = 0.198, Полнота = 0.994, F1 = 0.330\n",
      "Порог = 0.42 | Точность = 0.199, Полнота = 0.986, F1 = 0.331\n",
      "Порог = 0.44 | Точность = 0.201, Полнота = 0.980, F1 = 0.333\n",
      "Порог = 0.46 | Точность = 0.204, Полнота = 0.974, F1 = 0.338\n",
      "Порог = 0.48 | Точность = 0.208, Полнота = 0.969, F1 = 0.343\n",
      "Порог = 0.50 | Точность = 0.212, Полнота = 0.960, F1 = 0.347\n",
      "Порог = 0.52 | Точность = 0.219, Полнота = 0.960, F1 = 0.356\n",
      "Порог = 0.54 | Точность = 0.225, Полнота = 0.943, F1 = 0.363\n",
      "Порог = 0.56 | Точность = 0.233, Полнота = 0.934, F1 = 0.373\n",
      "Порог = 0.58 | Точность = 0.239, Полнота = 0.912, F1 = 0.378\n",
      "Порог = 0.60 | Точность = 0.247, Полнота = 0.889, F1 = 0.387\n",
      "Порог = 0.62 | Точность = 0.253, Полнота = 0.849, F1 = 0.390\n",
      "Порог = 0.64 | Точность = 0.267, Полнота = 0.821, F1 = 0.403\n",
      "Порог = 0.66 | Точность = 0.280, Полнота = 0.781, F1 = 0.412\n",
      "Порог = 0.68 | Точность = 0.294, Полнота = 0.735, F1 = 0.420\n",
      "Порог = 0.70 | Точность = 0.314, Полнота = 0.689, F1 = 0.432\n",
      "Порог = 0.72 | Точность = 0.329, Полнота = 0.644, F1 = 0.436\n",
      "Порог = 0.74 | Точность = 0.363, Полнота = 0.607, F1 = 0.454\n",
      "Порог = 0.76 | Точность = 0.380, Полнота = 0.547, F1 = 0.449\n",
      "Порог = 0.78 | Точность = 0.404, Полнота = 0.467, F1 = 0.433\n",
      "Порог = 0.80 | Точность = 0.410, Полнота = 0.396, F1 = 0.403\n",
      "Порог = 0.82 | Точность = 0.433, Полнота = 0.350, F1 = 0.387\n",
      "Порог = 0.84 | Точность = 0.453, Полнота = 0.276, F1 = 0.343\n",
      "Порог = 0.86 | Точность = 0.466, Полнота = 0.217, F1 = 0.296\n",
      "Порог = 0.88 | Точность = 0.434, Полнота = 0.151, F1 = 0.224\n",
      "Порог = 0.90 | Точность = 0.412, Полнота = 0.100, F1 = 0.161\n",
      "Порог = 0.92 | Точность = 0.386, Полнота = 0.063, F1 = 0.108\n"
     ]
    }
   ],
   "source": [
    "probabilities_valid = model.predict_proba(features_valid)\n",
    "probabilities_one_valid = probabilities_valid[:, 1]\n",
    "for threshold in np.arange(0, 0.94, 0.02):\n",
    "    predicted_valid = probabilities_one_valid > threshold\n",
    "    precision = precision_score(target_valid, predicted_valid)\n",
    "    recall = recall_score(target_valid, predicted_valid)\n",
    "    f1=f1_score(target_valid, predicted_valid)\n",
    "    print(\"Порог = {:.2f} | Точность = {:.3f}, Полнота = {:.3f}, F1 = {:.3f}\".format(\n",
    "        threshold, precision, recall, f1))"
   ]
  },
  {
   "cell_type": "markdown",
   "metadata": {},
   "source": [
    "Самый оптимальный порог, я считаю, нужно взять 0.74, т.к. у него самые высокие показатели F1"
   ]
  },
  {
   "cell_type": "code",
   "execution_count": 16,
   "metadata": {},
   "outputs": [
    {
     "data": {
      "image/png": "[encoded data removed]",
      "text/plain": [
       "<Figure size 432x288 with 1 Axes>"
      ]
     },
     "metadata": {
      "needs_background": "light"
     },
     "output_type": "display_data"
    }
   ],
   "source": [
    "fpr, tpr, thresholds = roc_curve(target_valid, probabilities_one_valid) \n",
    "\n",
    "plt.figure()\n",
    "plt.plot(fpr, tpr)\n",
    "plt.xlim([0.0, 1.0])\n",
    "plt.ylim([0.0, 1.0])\n",
    "plt.xlabel('False Positive Rate')\n",
    "plt.ylabel('True Positive Rate')\n",
    "plt.title('ROC-кривая')\n",
    "plt.show() "
   ]
  },
  {
   "cell_type": "code",
   "execution_count": 17,
   "metadata": {},
   "outputs": [],
   "source": [
    "def proby (model,threshold): \n",
    "    threshold=0.74\n",
    "    prob=[]\n",
    "    probabilities_valid = model.predict_proba(features_valid)\n",
    "    probabilities_one_valid = probabilities_valid[:, 1]\n",
    "    for probab in probabilities_one_valid:\n",
    "        if probab > threshold:\n",
    "            prob.append(1)\n",
    "        else:\n",
    "            prob.append(0)\n",
    "    return prob"
   ]
  },
  {
   "cell_type": "code",
   "execution_count": 18,
   "metadata": {},
   "outputs": [
    {
     "name": "stdout",
     "output_type": "stream",
     "text": [
      "Точность наилучшей модели на валидационной выборке: 0.8669598680593733 минимум значений в листе: 1 Максимальная глубина: 14 лучшее разделение: 3\n"
     ]
    }
   ],
   "source": [
    "#Дерево решений\n",
    "model = DecisionTreeClassifier(random_state=12345)\n",
    "best_model = None\n",
    "best_result = 3214\n",
    "best_leaf = 0\n",
    "best_depth = 0\n",
    "best_split = 2\n",
    "\n",
    "for split in range(3, 11):\n",
    "    for leaf in range(1, 11):\n",
    "        for depth in range (1, 15):\n",
    "            model = DecisionTreeClassifier(random_state=12345, max_depth=depth, min_samples_leaf=leaf, min_samples_split= split)\n",
    "            model.fit(features_train, target_train) \n",
    "            predictions_valid = model.predict(features_valid) \n",
    "            movedts_valid=proby(model, threshold)\n",
    "            result = model.score(features_valid, movedts_valid) \n",
    "            if result < best_result:\n",
    "                best_model = model\n",
    "                best_result = result\n",
    "                best_leaf = leaf\n",
    "                best_depth = depth\n",
    "                best_split=split\n",
    "print(\"Точность наилучшей модели на валидационной выборке:\", best_result, \n",
    "      \"минимум значений в листе:\", best_leaf, \"Максимальная глубина:\", depth, \"лучшее разделение:\", best_split)\n"
   ]
  },
  {
   "cell_type": "code",
   "execution_count": 19,
   "metadata": {},
   "outputs": [
    {
     "name": "stdout",
     "output_type": "stream",
     "text": [
      "Точность наилучшей модели на валидационной выборке: 0.9169873556899395 Количество деревьев: 21 Максимальная глубина: 14\n"
     ]
    }
   ],
   "source": [
    "#Случайный лес\n",
    "best_model = None\n",
    "best_result = 3214\n",
    "best_est = 0\n",
    "best_depth = 0\n",
    "for est in range(1, 101, 10):\n",
    "    for depth in range (1, 15):\n",
    "        model = RandomForestClassifier(random_state=12345, n_estimators=est, max_depth=depth)\n",
    "        model.fit(features_valid, target_valid) \n",
    "        predictions_valid = model.predict(features_valid)\n",
    "        movedts_valid=proby(model, 0.74)\n",
    "        result = model.score(features_valid, movedts_valid)\n",
    "        if result < best_result:\n",
    "            best_model = model\n",
    "            best_result = result\n",
    "            best_est = est\n",
    "            best_depth = depth\n",
    "\n",
    "print(\"Точность наилучшей модели на валидационной выборке:\", best_result, \n",
    "      \"Количество деревьев:\", best_est, \"Максимальная глубина:\", depth)"
   ]
  },
  {
   "cell_type": "code",
   "execution_count": 20,
   "metadata": {},
   "outputs": [
    {
     "name": "stdout",
     "output_type": "stream",
     "text": [
      "Точность модели на валидационной выборке: 0.9219351291918637\n"
     ]
    }
   ],
   "source": [
    "#Логистическая регрессия\n",
    "model_lr = LogisticRegression(random_state=12345, solver='liblinear') \n",
    "model_lr.fit(features_train, target_train)\n",
    "movedts_valid=proby(model, 0.74)\n",
    "result = model.score(features_valid, movedts_valid)\n",
    "print(\"Точность модели на валидационной выборке:\", result)"
   ]
  },
  {
   "cell_type": "markdown",
   "metadata": {},
   "source": [
    "Провел анализ по разным моделям, Логистическая регрессия показывает себя лучшее всего"
   ]
  },
  {
   "cell_type": "markdown",
   "metadata": {},
   "source": [
    "## Тестирование модели"
   ]
  },
  {
   "cell_type": "code",
   "execution_count": 21,
   "metadata": {},
   "outputs": [],
   "source": [
    "features_bigtrain=pd.concat([features_train, features_valid])\n",
    "target_bigtrain=pd.concat([target_train, target_valid])"
   ]
  },
  {
   "cell_type": "code",
   "execution_count": 22,
   "metadata": {},
   "outputs": [],
   "source": [
    "def result (model):\n",
    "    model.fit(features_bigtrain, target_bigtrain)\n",
    "    predictions_test = model.predict(features_test) \n",
    "    movedts_valid=proby(model, 0.74)\n",
    "    result = model.score(features_valid, movedts_valid)\n",
    "    print(\"Точность модели на тестовой выборке:\",result)\n",
    "    f1=f1_score(target_test, predictions_test)\n",
    "    print(\"Ф1 модели\", f1) "
   ]
  },
  {
   "cell_type": "code",
   "execution_count": 23,
   "metadata": {},
   "outputs": [
    {
     "name": "stdout",
     "output_type": "stream",
     "text": [
      "Точность модели на тестовой выборке: 0.7003848268279275\n",
      "Ф1 модели 0.5004616805170822\n",
      "Точность модели на тестовой выборке: 0.9884551951621771\n",
      "Ф1 модели 0.492176386913229\n",
      "Точность модели на тестовой выборке: 0.9213853765805388\n",
      "Ф1 модели 0.6242236024844721\n",
      "Результат генератора в сравнении с тестовой выборкой 0.5022002200220022\n"
     ]
    }
   ],
   "source": [
    "model_lr = LogisticRegression(random_state=12345, solver='liblinear', class_weight='balanced') \n",
    "result(model_lr)\n",
    "\n",
    "model_dt = DecisionTreeClassifier(random_state=12345, max_depth=14)\n",
    "\n",
    "result(model_dt)\n",
    "\n",
    "model_rf = RandomForestClassifier(random_state=12345, n_estimators=71, max_depth=14, class_weight='balanced')\n",
    "result(model_rf)\n",
    "\n",
    "a=np.random.randint(0, 2, size=len(target_test))\n",
    "def error_count(answers, predictions):\n",
    "    return ((answers == predictions).sum())/len(answers)\n",
    "print(\"Результат генератора в сравнении с тестовой выборкой\", error_count(a, target_test))"
   ]
  },
  {
   "cell_type": "markdown",
   "metadata": {},
   "source": [
    "Удалось достичь F1 более 0.59 у модели случайного леса и даже давольно неплохую точность. Хуже всего себя проявила логистическая регрессия, слишком большой провал в показателях. Также пугающе большая точность у дерево решений...Возможно стоит лучше проработать порог принятия решения."
   ]
  },
  {
   "cell_type": "code",
   "execution_count": null,
   "metadata": {},
   "outputs": [],
   "source": []
  }
 ],
 "metadata": {
  "ExecuteTimeLog": [
   {
    "duration": 1046,
    "start_time": "2021-06-10T16:33:15.135Z"
   },
   {
    "duration": 47,
    "start_time": "2021-06-10T16:33:25.110Z"
   },
   {
    "duration": 43,
    "start_time": "2021-06-10T16:33:53.638Z"
   },
   {
    "duration": 270,
    "start_time": "2021-06-10T16:33:59.207Z"
   },
   {
    "duration": 59,
    "start_time": "2021-06-10T16:34:08.191Z"
   },
   {
    "duration": 61,
    "start_time": "2021-06-10T16:36:26.999Z"
   },
   {
    "duration": 6,
    "start_time": "2021-06-10T16:36:45.566Z"
   },
   {
    "duration": 5,
    "start_time": "2021-06-10T16:36:55.302Z"
   },
   {
    "duration": 4,
    "start_time": "2021-06-10T16:38:32.196Z"
   },
   {
    "duration": 3,
    "start_time": "2021-06-10T16:38:35.325Z"
   },
   {
    "duration": 7,
    "start_time": "2021-06-10T16:38:42.036Z"
   },
   {
    "duration": 6,
    "start_time": "2021-06-10T16:41:43.553Z"
   },
   {
    "duration": 8,
    "start_time": "2021-06-10T16:41:44.195Z"
   },
   {
    "duration": 7,
    "start_time": "2021-06-10T16:45:24.536Z"
   },
   {
    "duration": 10,
    "start_time": "2021-06-10T16:45:29.624Z"
   },
   {
    "duration": 6,
    "start_time": "2021-06-10T16:45:44.785Z"
   },
   {
    "duration": 4,
    "start_time": "2021-06-10T16:45:47.433Z"
   },
   {
    "duration": 13,
    "start_time": "2021-06-10T16:45:51.088Z"
   },
   {
    "duration": 1151,
    "start_time": "2021-06-10T16:46:37.971Z"
   },
   {
    "duration": 48,
    "start_time": "2021-06-10T16:46:39.124Z"
   },
   {
    "duration": 59,
    "start_time": "2021-06-10T16:46:39.174Z"
   },
   {
    "duration": 5,
    "start_time": "2021-06-10T16:46:39.235Z"
   },
   {
    "duration": 9,
    "start_time": "2021-06-10T16:46:39.242Z"
   },
   {
    "duration": 5,
    "start_time": "2021-06-10T16:46:39.252Z"
   },
   {
    "duration": 266,
    "start_time": "2021-06-10T16:50:16.148Z"
   },
   {
    "duration": 1045,
    "start_time": "2021-06-10T16:50:53.962Z"
   },
   {
    "duration": 48,
    "start_time": "2021-06-10T16:50:55.009Z"
   },
   {
    "duration": 64,
    "start_time": "2021-06-10T16:50:55.059Z"
   },
   {
    "duration": 6,
    "start_time": "2021-06-10T16:50:55.125Z"
   },
   {
    "duration": 7,
    "start_time": "2021-06-10T16:50:55.132Z"
   },
   {
    "duration": 4,
    "start_time": "2021-06-10T16:50:55.140Z"
   },
   {
    "duration": 263,
    "start_time": "2021-06-10T16:50:55.146Z"
   },
   {
    "duration": 8,
    "start_time": "2021-06-10T16:55:29.580Z"
   },
   {
    "duration": 12,
    "start_time": "2021-06-10T16:55:34.699Z"
   },
   {
    "duration": 1068,
    "start_time": "2021-06-10T17:02:00.141Z"
   },
   {
    "duration": 49,
    "start_time": "2021-06-10T17:02:01.211Z"
   },
   {
    "duration": 61,
    "start_time": "2021-06-10T17:02:01.262Z"
   },
   {
    "duration": 6,
    "start_time": "2021-06-10T17:02:01.325Z"
   },
   {
    "duration": 9,
    "start_time": "2021-06-10T17:02:01.333Z"
   },
   {
    "duration": 12,
    "start_time": "2021-06-10T17:02:01.344Z"
   },
   {
    "duration": 279,
    "start_time": "2021-06-10T17:02:01.357Z"
   },
   {
    "duration": 1032,
    "start_time": "2021-06-10T17:02:33.145Z"
   },
   {
    "duration": 47,
    "start_time": "2021-06-10T17:02:34.179Z"
   },
   {
    "duration": 61,
    "start_time": "2021-06-10T17:02:34.228Z"
   },
   {
    "duration": 6,
    "start_time": "2021-06-10T17:02:34.291Z"
   },
   {
    "duration": 8,
    "start_time": "2021-06-10T17:02:34.299Z"
   },
   {
    "duration": 13,
    "start_time": "2021-06-10T17:02:34.309Z"
   },
   {
    "duration": 10,
    "start_time": "2021-06-10T17:02:34.324Z"
   },
   {
    "duration": 281,
    "start_time": "2021-06-10T17:04:09.415Z"
   },
   {
    "duration": 1067,
    "start_time": "2021-06-10T17:13:24.318Z"
   },
   {
    "duration": 49,
    "start_time": "2021-06-10T17:13:25.388Z"
   },
   {
    "duration": 67,
    "start_time": "2021-06-10T17:13:25.439Z"
   },
   {
    "duration": 7,
    "start_time": "2021-06-10T17:13:25.509Z"
   },
   {
    "duration": 8,
    "start_time": "2021-06-10T17:13:25.518Z"
   },
   {
    "duration": 12,
    "start_time": "2021-06-10T17:13:25.528Z"
   },
   {
    "duration": 48,
    "start_time": "2021-06-10T17:13:25.542Z"
   },
   {
    "duration": 269,
    "start_time": "2021-06-10T17:13:25.592Z"
   },
   {
    "duration": 191,
    "start_time": "2021-06-10T17:13:44.040Z"
   },
   {
    "duration": 15,
    "start_time": "2021-06-10T17:13:55.409Z"
   },
   {
    "duration": 175,
    "start_time": "2021-06-10T17:19:33.439Z"
   },
   {
    "duration": 1150,
    "start_time": "2021-06-10T17:20:16.057Z"
   },
   {
    "duration": 49,
    "start_time": "2021-06-10T17:20:17.208Z"
   },
   {
    "duration": 61,
    "start_time": "2021-06-10T17:20:17.259Z"
   },
   {
    "duration": 6,
    "start_time": "2021-06-10T17:20:17.322Z"
   },
   {
    "duration": 20,
    "start_time": "2021-06-10T17:20:17.329Z"
   },
   {
    "duration": 27,
    "start_time": "2021-06-10T17:20:17.351Z"
   },
   {
    "duration": 28,
    "start_time": "2021-06-10T17:20:17.380Z"
   },
   {
    "duration": 17,
    "start_time": "2021-06-10T17:20:17.411Z"
   },
   {
    "duration": 282,
    "start_time": "2021-06-10T17:20:17.430Z"
   },
   {
    "duration": 1049,
    "start_time": "2021-06-10T17:22:19.359Z"
   },
   {
    "duration": 49,
    "start_time": "2021-06-10T17:22:20.410Z"
   },
   {
    "duration": 59,
    "start_time": "2021-06-10T17:22:20.461Z"
   },
   {
    "duration": 5,
    "start_time": "2021-06-10T17:22:20.522Z"
   },
   {
    "duration": 8,
    "start_time": "2021-06-10T17:22:20.529Z"
   },
   {
    "duration": 11,
    "start_time": "2021-06-10T17:22:20.538Z"
   },
   {
    "duration": 8,
    "start_time": "2021-06-10T17:22:20.551Z"
   },
   {
    "duration": 32,
    "start_time": "2021-06-10T17:22:20.561Z"
   },
   {
    "duration": 36,
    "start_time": "2021-06-10T17:22:20.594Z"
   },
   {
    "duration": 35,
    "start_time": "2021-06-10T17:28:31.397Z"
   },
   {
    "duration": 37,
    "start_time": "2021-06-10T17:28:53.414Z"
   },
   {
    "duration": 37,
    "start_time": "2021-06-10T17:28:55.007Z"
   },
   {
    "duration": 993,
    "start_time": "2021-06-10T17:31:06.317Z"
   },
   {
    "duration": 48,
    "start_time": "2021-06-10T17:31:07.312Z"
   },
   {
    "duration": 61,
    "start_time": "2021-06-10T17:31:07.362Z"
   },
   {
    "duration": 6,
    "start_time": "2021-06-10T17:31:07.425Z"
   },
   {
    "duration": 23,
    "start_time": "2021-06-10T17:31:07.433Z"
   },
   {
    "duration": 12,
    "start_time": "2021-06-10T17:31:07.458Z"
   },
   {
    "duration": 15,
    "start_time": "2021-06-10T17:31:07.471Z"
   },
   {
    "duration": 13,
    "start_time": "2021-06-10T17:31:07.487Z"
   },
   {
    "duration": 33,
    "start_time": "2021-06-10T17:31:07.502Z"
   },
   {
    "duration": 12,
    "start_time": "2021-06-10T17:31:07.536Z"
   },
   {
    "duration": 15,
    "start_time": "2021-06-10T17:31:44.452Z"
   },
   {
    "duration": 50,
    "start_time": "2021-06-10T17:32:04.085Z"
   },
   {
    "duration": 12,
    "start_time": "2021-06-10T17:32:08.092Z"
   },
   {
    "duration": 1122,
    "start_time": "2021-06-10T17:32:22.608Z"
   },
   {
    "duration": 48,
    "start_time": "2021-06-10T17:32:23.732Z"
   },
   {
    "duration": 67,
    "start_time": "2021-06-10T17:32:23.782Z"
   },
   {
    "duration": 6,
    "start_time": "2021-06-10T17:32:23.850Z"
   },
   {
    "duration": 10,
    "start_time": "2021-06-10T17:32:23.857Z"
   },
   {
    "duration": 13,
    "start_time": "2021-06-10T17:32:23.885Z"
   },
   {
    "duration": 11,
    "start_time": "2021-06-10T17:32:23.900Z"
   },
   {
    "duration": 11,
    "start_time": "2021-06-10T17:32:23.914Z"
   },
   {
    "duration": 58,
    "start_time": "2021-06-10T17:32:23.927Z"
   },
   {
    "duration": 16,
    "start_time": "2021-06-10T17:32:23.988Z"
   },
   {
    "duration": 82,
    "start_time": "2021-06-10T17:32:24.006Z"
   },
   {
    "duration": 110,
    "start_time": "2021-06-10T17:32:24.091Z"
   },
   {
    "duration": 129,
    "start_time": "2021-06-10T17:32:56.156Z"
   },
   {
    "duration": 1127,
    "start_time": "2021-06-10T17:33:01.877Z"
   },
   {
    "duration": 48,
    "start_time": "2021-06-10T17:33:03.006Z"
   },
   {
    "duration": 182,
    "start_time": "2021-06-10T17:33:03.056Z"
   },
   {
    "duration": 193,
    "start_time": "2021-06-10T17:33:03.240Z"
   },
   {
    "duration": 143,
    "start_time": "2021-06-10T17:33:03.435Z"
   },
   {
    "duration": 54,
    "start_time": "2021-06-10T17:33:03.580Z"
   },
   {
    "duration": 9,
    "start_time": "2021-06-10T17:33:03.636Z"
   },
   {
    "duration": 13,
    "start_time": "2021-06-10T17:33:03.648Z"
   },
   {
    "duration": 33,
    "start_time": "2021-06-10T17:33:03.663Z"
   },
   {
    "duration": 13,
    "start_time": "2021-06-10T17:33:03.698Z"
   },
   {
    "duration": 78,
    "start_time": "2021-06-10T17:33:03.712Z"
   },
   {
    "duration": 3,
    "start_time": "2021-06-10T18:52:35.052Z"
   },
   {
    "duration": 112,
    "start_time": "2021-06-10T18:53:11.787Z"
   },
   {
    "duration": 24,
    "start_time": "2021-06-10T18:53:31.499Z"
   },
   {
    "duration": 1064,
    "start_time": "2021-06-10T18:53:56.298Z"
   },
   {
    "duration": 56,
    "start_time": "2021-06-10T18:53:57.364Z"
   },
   {
    "duration": 66,
    "start_time": "2021-06-10T18:53:57.423Z"
   },
   {
    "duration": 9,
    "start_time": "2021-06-10T18:53:57.491Z"
   },
   {
    "duration": 6,
    "start_time": "2021-06-10T18:53:57.502Z"
   },
   {
    "duration": 12,
    "start_time": "2021-06-10T18:53:57.509Z"
   },
   {
    "duration": 7,
    "start_time": "2021-06-10T18:53:57.522Z"
   },
   {
    "duration": 11,
    "start_time": "2021-06-10T18:53:57.531Z"
   },
   {
    "duration": 67,
    "start_time": "2021-06-10T18:53:57.544Z"
   },
   {
    "duration": 12,
    "start_time": "2021-06-10T18:53:57.613Z"
   },
   {
    "duration": 78,
    "start_time": "2021-06-10T18:53:57.626Z"
   },
   {
    "duration": 7,
    "start_time": "2021-06-10T18:53:57.786Z"
   },
   {
    "duration": 191,
    "start_time": "2021-06-10T18:53:57.795Z"
   },
   {
    "duration": 211,
    "start_time": "2021-06-10T18:53:57.988Z"
   },
   {
    "duration": 5,
    "start_time": "2021-06-10T18:57:56.831Z"
   },
   {
    "duration": 1051,
    "start_time": "2021-06-10T18:59:19.454Z"
   },
   {
    "duration": 45,
    "start_time": "2021-06-10T18:59:20.507Z"
   },
   {
    "duration": 68,
    "start_time": "2021-06-10T18:59:20.557Z"
   },
   {
    "duration": 6,
    "start_time": "2021-06-10T18:59:20.626Z"
   },
   {
    "duration": 10,
    "start_time": "2021-06-10T18:59:20.634Z"
   },
   {
    "duration": 11,
    "start_time": "2021-06-10T18:59:20.646Z"
   },
   {
    "duration": 30,
    "start_time": "2021-06-10T18:59:20.660Z"
   },
   {
    "duration": 15,
    "start_time": "2021-06-10T18:59:20.692Z"
   },
   {
    "duration": 32,
    "start_time": "2021-06-10T18:59:20.709Z"
   },
   {
    "duration": 12,
    "start_time": "2021-06-10T18:59:20.742Z"
   },
   {
    "duration": 81,
    "start_time": "2021-06-10T18:59:20.755Z"
   },
   {
    "duration": 7,
    "start_time": "2021-06-10T18:59:20.885Z"
   },
   {
    "duration": 212,
    "start_time": "2021-06-10T18:59:20.897Z"
   },
   {
    "duration": 285,
    "start_time": "2021-06-10T18:59:21.111Z"
   },
   {
    "duration": 256,
    "start_time": "2021-06-10T19:00:56.074Z"
   },
   {
    "duration": 642,
    "start_time": "2021-06-10T19:01:32.218Z"
   },
   {
    "duration": 182,
    "start_time": "2021-06-10T19:01:53.729Z"
   },
   {
    "duration": 359,
    "start_time": "2021-06-10T19:02:16.920Z"
   },
   {
    "duration": 203,
    "start_time": "2021-06-10T19:02:32.896Z"
   },
   {
    "duration": 1114,
    "start_time": "2021-06-10T19:03:06.105Z"
   },
   {
    "duration": 49,
    "start_time": "2021-06-10T19:03:07.221Z"
   },
   {
    "duration": 67,
    "start_time": "2021-06-10T19:03:07.273Z"
   },
   {
    "duration": 6,
    "start_time": "2021-06-10T19:03:07.341Z"
   },
   {
    "duration": 7,
    "start_time": "2021-06-10T19:03:07.349Z"
   },
   {
    "duration": 27,
    "start_time": "2021-06-10T19:03:07.358Z"
   },
   {
    "duration": 10,
    "start_time": "2021-06-10T19:03:07.386Z"
   },
   {
    "duration": 12,
    "start_time": "2021-06-10T19:03:07.399Z"
   },
   {
    "duration": 33,
    "start_time": "2021-06-10T19:03:07.412Z"
   },
   {
    "duration": 11,
    "start_time": "2021-06-10T19:03:07.447Z"
   },
   {
    "duration": 132,
    "start_time": "2021-06-10T19:03:07.460Z"
   },
   {
    "duration": 6,
    "start_time": "2021-06-10T19:03:07.597Z"
   },
   {
    "duration": 210,
    "start_time": "2021-06-10T19:03:07.685Z"
   },
   {
    "duration": 205,
    "start_time": "2021-06-10T19:03:07.901Z"
   },
   {
    "duration": 413,
    "start_time": "2021-06-10T19:03:08.186Z"
   },
   {
    "duration": 270,
    "start_time": "2021-06-10T19:03:24.237Z"
   },
   {
    "duration": 134,
    "start_time": "2021-06-10T19:03:33.972Z"
   },
   {
    "duration": 343,
    "start_time": "2021-06-10T19:03:38.148Z"
   },
   {
    "duration": 350,
    "start_time": "2021-06-10T19:03:57.020Z"
   },
   {
    "duration": 167,
    "start_time": "2021-06-10T19:06:35.372Z"
   },
   {
    "duration": 161,
    "start_time": "2021-06-10T19:22:42.081Z"
   },
   {
    "duration": 260,
    "start_time": "2021-06-10T19:23:00.620Z"
   },
   {
    "duration": 1009,
    "start_time": "2021-06-10T19:23:27.653Z"
   },
   {
    "duration": 50,
    "start_time": "2021-06-10T19:23:28.664Z"
   },
   {
    "duration": 58,
    "start_time": "2021-06-10T19:23:28.717Z"
   },
   {
    "duration": 11,
    "start_time": "2021-06-10T19:23:28.785Z"
   },
   {
    "duration": 6,
    "start_time": "2021-06-10T19:23:28.799Z"
   },
   {
    "duration": 15,
    "start_time": "2021-06-10T19:23:28.806Z"
   },
   {
    "duration": 10,
    "start_time": "2021-06-10T19:23:28.822Z"
   },
   {
    "duration": 11,
    "start_time": "2021-06-10T19:23:28.834Z"
   },
   {
    "duration": 63,
    "start_time": "2021-06-10T19:23:28.847Z"
   },
   {
    "duration": 13,
    "start_time": "2021-06-10T19:23:28.912Z"
   },
   {
    "duration": 69,
    "start_time": "2021-06-10T19:23:28.927Z"
   },
   {
    "duration": 87,
    "start_time": "2021-06-10T19:23:28.998Z"
   },
   {
    "duration": 216,
    "start_time": "2021-06-10T19:23:29.087Z"
   },
   {
    "duration": 195,
    "start_time": "2021-06-10T19:23:29.306Z"
   },
   {
    "duration": 373,
    "start_time": "2021-06-10T19:23:29.504Z"
   },
   {
    "duration": 182,
    "start_time": "2021-06-10T19:23:29.878Z"
   },
   {
    "duration": 281,
    "start_time": "2021-06-10T19:23:30.062Z"
   },
   {
    "duration": 179,
    "start_time": "2021-06-10T19:26:15.902Z"
   },
   {
    "duration": 175,
    "start_time": "2021-06-10T19:26:35.634Z"
   },
   {
    "duration": 187,
    "start_time": "2021-06-10T19:27:33.908Z"
   },
   {
    "duration": 190,
    "start_time": "2021-06-10T19:29:20.348Z"
   },
   {
    "duration": 344,
    "start_time": "2021-06-11T20:58:54.933Z"
   },
   {
    "duration": 5,
    "start_time": "2021-06-11T20:58:58.530Z"
   },
   {
    "duration": 1472,
    "start_time": "2021-06-11T20:59:20.996Z"
   },
   {
    "duration": 66,
    "start_time": "2021-06-11T20:59:22.471Z"
   },
   {
    "duration": 117,
    "start_time": "2021-06-11T20:59:22.540Z"
   },
   {
    "duration": 9,
    "start_time": "2021-06-11T20:59:22.660Z"
   },
   {
    "duration": 11,
    "start_time": "2021-06-11T20:59:22.672Z"
   },
   {
    "duration": 19,
    "start_time": "2021-06-11T20:59:22.685Z"
   },
   {
    "duration": 50,
    "start_time": "2021-06-11T20:59:22.706Z"
   },
   {
    "duration": 20,
    "start_time": "2021-06-11T20:59:22.758Z"
   },
   {
    "duration": 79,
    "start_time": "2021-06-11T20:59:22.782Z"
   },
   {
    "duration": 19,
    "start_time": "2021-06-11T20:59:22.864Z"
   },
   {
    "duration": 113,
    "start_time": "2021-06-11T20:59:22.885Z"
   },
   {
    "duration": 95,
    "start_time": "2021-06-11T20:59:23.061Z"
   },
   {
    "duration": 396,
    "start_time": "2021-06-11T20:59:23.159Z"
   },
   {
    "duration": 306,
    "start_time": "2021-06-11T20:59:23.558Z"
   },
   {
    "duration": 488,
    "start_time": "2021-06-11T20:59:23.955Z"
   },
   {
    "duration": 268,
    "start_time": "2021-06-11T20:59:24.446Z"
   },
   {
    "duration": 5,
    "start_time": "2021-06-11T20:59:24.717Z"
   },
   {
    "duration": 423,
    "start_time": "2021-06-11T20:59:24.724Z"
   },
   {
    "duration": 34447,
    "start_time": "2021-06-11T20:59:51.067Z"
   },
   {
    "duration": 31964,
    "start_time": "2021-06-11T21:01:16.814Z"
   },
   {
    "duration": 25573,
    "start_time": "2021-06-11T21:01:48.781Z"
   },
   {
    "duration": 33755,
    "start_time": "2021-06-11T21:02:31.923Z"
   },
   {
    "duration": -781,
    "start_time": "2021-06-11T21:03:06.461Z"
   },
   {
    "duration": 33027,
    "start_time": "2021-06-11T21:04:15.246Z"
   },
   {
    "duration": 1444,
    "start_time": "2021-06-11T21:05:13.381Z"
   },
   {
    "duration": 65,
    "start_time": "2021-06-11T21:05:14.828Z"
   },
   {
    "duration": 107,
    "start_time": "2021-06-11T21:05:14.897Z"
   },
   {
    "duration": 9,
    "start_time": "2021-06-11T21:05:15.007Z"
   },
   {
    "duration": 18,
    "start_time": "2021-06-11T21:05:15.019Z"
   },
   {
    "duration": 20,
    "start_time": "2021-06-11T21:05:15.055Z"
   },
   {
    "duration": 16,
    "start_time": "2021-06-11T21:05:15.078Z"
   },
   {
    "duration": 18,
    "start_time": "2021-06-11T21:05:15.099Z"
   },
   {
    "duration": 77,
    "start_time": "2021-06-11T21:05:15.120Z"
   },
   {
    "duration": 17,
    "start_time": "2021-06-11T21:05:15.200Z"
   },
   {
    "duration": 237,
    "start_time": "2021-06-11T21:05:15.219Z"
   },
   {
    "duration": 4,
    "start_time": "2021-06-11T21:05:15.459Z"
   },
   {
    "duration": 293,
    "start_time": "2021-06-11T21:05:15.466Z"
   },
   {
    "duration": 296,
    "start_time": "2021-06-11T21:05:15.763Z"
   },
   {
    "duration": 580,
    "start_time": "2021-06-11T21:05:16.062Z"
   },
   {
    "duration": 270,
    "start_time": "2021-06-11T21:05:16.644Z"
   },
   {
    "duration": 5,
    "start_time": "2021-06-11T21:05:16.917Z"
   },
   {
    "duration": 32170,
    "start_time": "2021-06-11T21:05:16.924Z"
   },
   {
    "duration": 25863,
    "start_time": "2021-06-11T21:05:49.096Z"
   },
   {
    "duration": 25958,
    "start_time": "2021-06-11T21:06:15.736Z"
   },
   {
    "duration": 10,
    "start_time": "2021-06-11T21:06:41.696Z"
   },
   {
    "duration": 5,
    "start_time": "2021-06-11T21:06:49.608Z"
   },
   {
    "duration": 1399,
    "start_time": "2021-06-11T21:07:03.791Z"
   },
   {
    "duration": 65,
    "start_time": "2021-06-11T21:07:05.193Z"
   },
   {
    "duration": 102,
    "start_time": "2021-06-11T21:07:05.261Z"
   },
   {
    "duration": 9,
    "start_time": "2021-06-11T21:07:05.365Z"
   },
   {
    "duration": 12,
    "start_time": "2021-06-11T21:07:05.377Z"
   },
   {
    "duration": 19,
    "start_time": "2021-06-11T21:07:05.391Z"
   },
   {
    "duration": 47,
    "start_time": "2021-06-11T21:07:05.412Z"
   },
   {
    "duration": 17,
    "start_time": "2021-06-11T21:07:05.464Z"
   },
   {
    "duration": 45,
    "start_time": "2021-06-11T21:07:05.484Z"
   },
   {
    "duration": 17,
    "start_time": "2021-06-11T21:07:05.555Z"
   },
   {
    "duration": 181,
    "start_time": "2021-06-11T21:07:05.574Z"
   },
   {
    "duration": 95,
    "start_time": "2021-06-11T21:07:05.762Z"
   },
   {
    "duration": 397,
    "start_time": "2021-06-11T21:07:05.859Z"
   },
   {
    "duration": 396,
    "start_time": "2021-06-11T21:07:06.260Z"
   },
   {
    "duration": 471,
    "start_time": "2021-06-11T21:07:06.660Z"
   },
   {
    "duration": 262,
    "start_time": "2021-06-11T21:07:07.133Z"
   },
   {
    "duration": 5,
    "start_time": "2021-06-11T21:07:07.397Z"
   },
   {
    "duration": 32666,
    "start_time": "2021-06-11T21:07:07.405Z"
   },
   {
    "duration": 26476,
    "start_time": "2021-06-11T21:07:40.073Z"
   },
   {
    "duration": 143,
    "start_time": "2021-06-11T21:08:06.557Z"
   },
   {
    "duration": 10,
    "start_time": "2021-06-11T21:08:06.703Z"
   },
   {
    "duration": 16,
    "start_time": "2021-06-11T21:08:06.716Z"
   },
   {
    "duration": 1244,
    "start_time": "2021-06-11T21:08:06.754Z"
   },
   {
    "duration": 20,
    "start_time": "2021-06-11T21:10:43.787Z"
   },
   {
    "duration": 133,
    "start_time": "2021-06-11T21:13:07.801Z"
   },
   {
    "duration": 463,
    "start_time": "2021-06-11T21:13:59.281Z"
   },
   {
    "duration": 1430,
    "start_time": "2021-06-11T21:16:12.968Z"
   },
   {
    "duration": 68,
    "start_time": "2021-06-11T21:16:14.400Z"
   },
   {
    "duration": 105,
    "start_time": "2021-06-11T21:16:14.471Z"
   },
   {
    "duration": 8,
    "start_time": "2021-06-11T21:16:14.579Z"
   },
   {
    "duration": 24,
    "start_time": "2021-06-11T21:16:14.590Z"
   },
   {
    "duration": 40,
    "start_time": "2021-06-11T21:16:14.616Z"
   },
   {
    "duration": 17,
    "start_time": "2021-06-11T21:16:14.659Z"
   },
   {
    "duration": 17,
    "start_time": "2021-06-11T21:16:14.680Z"
   },
   {
    "duration": 69,
    "start_time": "2021-06-11T21:16:14.699Z"
   },
   {
    "duration": 19,
    "start_time": "2021-06-11T21:16:14.770Z"
   },
   {
    "duration": 168,
    "start_time": "2021-06-11T21:16:14.791Z"
   },
   {
    "duration": 94,
    "start_time": "2021-06-11T21:16:14.963Z"
   },
   {
    "duration": 396,
    "start_time": "2021-06-11T21:16:15.060Z"
   },
   {
    "duration": 304,
    "start_time": "2021-06-11T21:16:15.458Z"
   },
   {
    "duration": 574,
    "start_time": "2021-06-11T21:16:15.766Z"
   },
   {
    "duration": 271,
    "start_time": "2021-06-11T21:16:16.343Z"
   },
   {
    "duration": 6,
    "start_time": "2021-06-11T21:16:16.617Z"
   },
   {
    "duration": 35651,
    "start_time": "2021-06-11T21:16:16.626Z"
   },
   {
    "duration": 32382,
    "start_time": "2021-06-11T21:16:52.279Z"
   },
   {
    "duration": 211,
    "start_time": "2021-06-11T21:17:24.664Z"
   },
   {
    "duration": 13,
    "start_time": "2021-06-11T21:17:24.878Z"
   },
   {
    "duration": 6,
    "start_time": "2021-06-11T21:17:24.894Z"
   },
   {
    "duration": 1306,
    "start_time": "2021-06-11T21:17:24.906Z"
   },
   {
    "duration": 280,
    "start_time": "2021-12-14T13:36:09.466Z"
   },
   {
    "duration": 1141,
    "start_time": "2021-12-14T13:36:16.060Z"
   },
   {
    "duration": 44,
    "start_time": "2021-12-14T13:36:17.203Z"
   },
   {
    "duration": 57,
    "start_time": "2021-12-14T13:36:17.249Z"
   },
   {
    "duration": 7,
    "start_time": "2021-12-14T13:36:17.308Z"
   },
   {
    "duration": 7,
    "start_time": "2021-12-14T13:36:17.317Z"
   },
   {
    "duration": 38,
    "start_time": "2021-12-14T13:36:17.326Z"
   },
   {
    "duration": 10,
    "start_time": "2021-12-14T13:36:17.367Z"
   },
   {
    "duration": 14,
    "start_time": "2021-12-14T13:36:17.379Z"
   },
   {
    "duration": 33,
    "start_time": "2021-12-14T13:36:17.396Z"
   },
   {
    "duration": 36,
    "start_time": "2021-12-14T13:36:17.430Z"
   },
   {
    "duration": 99,
    "start_time": "2021-12-14T13:36:17.468Z"
   },
   {
    "duration": 4,
    "start_time": "2021-12-14T13:36:17.569Z"
   },
   {
    "duration": 288,
    "start_time": "2021-12-14T13:36:17.575Z"
   },
   {
    "duration": 207,
    "start_time": "2021-12-14T13:36:17.869Z"
   },
   {
    "duration": 382,
    "start_time": "2021-12-14T13:36:18.165Z"
   },
   {
    "duration": 160,
    "start_time": "2021-12-14T13:36:18.549Z"
   },
   {
    "duration": 3,
    "start_time": "2021-12-14T13:36:18.711Z"
   },
   {
    "duration": 24426,
    "start_time": "2021-12-14T13:36:18.716Z"
   },
   {
    "duration": 17456,
    "start_time": "2021-12-14T13:36:43.144Z"
   },
   {
    "duration": 89,
    "start_time": "2021-12-14T13:37:00.601Z"
   },
   {
    "duration": 7,
    "start_time": "2021-12-14T13:37:00.691Z"
   },
   {
    "duration": 15,
    "start_time": "2021-12-14T13:37:00.700Z"
   },
   {
    "duration": 880,
    "start_time": "2021-12-14T13:37:00.718Z"
   }
  ],
  "kernelspec": {
   "display_name": "Python 3",
   "language": "python",
   "name": "python3"
  },
  "language_info": {
   "codemirror_mode": {
    "name": "ipython",
    "version": 3
   },
   "file_extension": ".py",
   "mimetype": "text/x-python",
   "name": "python",
   "nbconvert_exporter": "python",
   "pygments_lexer": "ipython3",
   "version": "3.7.8"
  },
  "toc": {
   "base_numbering": 1,
   "nav_menu": {},
   "number_sections": true,
   "sideBar": true,
   "skip_h1_title": true,
   "title_cell": "Содержание",
   "title_sidebar": "Contents",
   "toc_cell": true,
   "toc_position": {},
   "toc_section_display": true,
   "toc_window_display": false
  }
 },
 "nbformat": 4,
 "nbformat_minor": 2
}
